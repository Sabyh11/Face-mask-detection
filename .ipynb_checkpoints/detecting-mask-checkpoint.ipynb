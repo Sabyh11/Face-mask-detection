{
 "cells": [
  {
   "cell_type": "code",
   "execution_count": 3,
   "metadata": {},
   "outputs": [],
   "source": [
    "from keras.models import load_model\n",
    "import cv2\n",
    "import numpy as np"
   ]
  },
  {
   "cell_type": "markdown",
   "metadata": {},
   "source": [
    "# Loading the Model"
   ]
  },
  {
   "cell_type": "code",
   "execution_count": null,
   "metadata": {},
   "outputs": [],
   "source": [
    "model = load_model('Model.model')\n",
    "detector = cv2.CascadeClassifier('D:/AI(verzeo)/majorproject/haarcascade_frontalface_alt.xml')\n",
    "types = { 0 : 'With Mask' , 1 : 'Without Mask'}\n",
    "colours = { 0 : (0,255,0) , 1 : (0,0,255)}"
   ]
  },
  {
   "cell_type": "markdown",
   "metadata": {},
   "source": [
    "# Running along webcam"
   ]
  },
  {
   "cell_type": "code",
   "execution_count": null,
   "metadata": {},
   "outputs": [],
   "source": [
    "cam = cv2.VideoCapture(0)\n",
    "test = tuple()\n",
    "while True:\n",
    "    status , img = cam.read()\n",
    "    if status:\n",
    "        img_gray = cv2.cvtColor(img,cv2.COLOR_BGR2GRAY)\n",
    "        faces = detector.detectMultiScale(img_gray)\n",
    "        if faces != test:\n",
    "            for face in faces:\n",
    "                x,y,w,h = face\n",
    "                face_img = img_gray[y:y+w,x:x+w]\n",
    "                face_img = cv2.resize(face_img,(100,100))\n",
    "                face_img = face_img/250\n",
    "                face_img = np.reshape(face_img,(1,100,100,1))\n",
    "                val = np.argmax(model.predict(face_img),axis=1)[0]\n",
    "                cv2.rectangle(img,(x,y),(x+w,y+h),colours[val],3)\n",
    "                cv2.rectangle(img,(x,y-40),(x+200,y),colours[val],-1)\n",
    "                cv2.putText(img,types[val],(x,y-15),cv2.FONT_HERSHEY_SIMPLEX,1,thickness=4,color = (255,255,255))\n",
    "        else:\n",
    "            cv2.putText(img,'Face Not Detected',(100,250),cv2.FONT_HERSHEY_SIMPLEX,1,thickness=4,color = (255,255,255))\n",
    "        cv2.putText(img,'PRESS q TO EXIT',(100,50),cv2.FONT_HERSHEY_SIMPLEX,1,thickness=4,color = (255,255,255))    \n",
    "        cv2.imshow('LIVE_FACE_MASK_DETECTOR',img)\n",
    "        key = cv2.waitKey(1)&0xFF\n",
    "        if key == ord('q'):\n",
    "            break\n",
    "cam.release()   \n",
    "cv2.destroyAllWindows()  "
   ]
  },
  {
   "cell_type": "code",
   "execution_count": null,
   "metadata": {},
   "outputs": [],
   "source": []
  }
 ],
 "metadata": {
  "kernelspec": {
   "display_name": "Python 3",
   "language": "python",
   "name": "python3"
  },
  "language_info": {
   "codemirror_mode": {
    "name": "ipython",
    "version": 3
   },
   "file_extension": ".py",
   "mimetype": "text/x-python",
   "name": "python",
   "nbconvert_exporter": "python",
   "pygments_lexer": "ipython3",
   "version": "3.7.6"
  }
 },
 "nbformat": 4,
 "nbformat_minor": 4
}
